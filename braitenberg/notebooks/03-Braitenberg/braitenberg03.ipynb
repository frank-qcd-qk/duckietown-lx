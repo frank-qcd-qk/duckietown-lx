{
 "cells": [
  {
   "cell_type": "markdown",
   "metadata": {},
   "source": [
    "<p style=\"text-align: center\">\n",
    "<img src=\"../../assets/images/dtlogo.png\" alt=\"Duckietown\" width=\"50%\">\n",
    "</p>"
   ]
  },
  {
   "cell_type": "code",
   "execution_count": null,
   "metadata": {},
   "outputs": [],
   "source": [
    "%load_ext autoreload\n",
    "%autoreload 2\n",
    "\n",
    "import numpy as np\n",
    "import matplotlib.pyplot as plt\n",
    "\n",
    "import duckietown_code_utils as dcu\n",
    "\n",
    "%matplotlib inline\n",
    "%pylab inline"
   ]
  },
  {
   "cell_type": "markdown",
   "metadata": {},
   "source": [
    "# Implementation of Braitenberg agent\n",
    "\n",
    "Now we know enough to implement our Braitenberg agent.\n",
    "\n",
    "\n",
    "We will implement an agent of the form\n",
    "\n",
    "```python\n",
    "left_motor  = const + gain *  np.sum( LEFT * preprocess(image) )\n",
    "right_motor = const + gain *  np.sum( RIGHT * preprocess(image) )\n",
    "```\n",
    "\n",
    "where `LEFT` and `RIGHT` are the weight matrices, while `const` and `gain` are two extra parameters for fine tuning."
   ]
  },
  {
   "cell_type": "markdown",
   "metadata": {},
   "source": [
    "You will have to implement the two functions `get_motor_left_matrix()` and `get_motor_right_matrix()` in the file [connections.py](../../packages/solution/connections.py). The file contains code that creates connections with some random values. Erase and put your own."
   ]
  },
  {
   "cell_type": "markdown",
   "metadata": {},
   "source": [
    "The other important code, which you need to **not** touch (at the beginning), is the file [agent.py](../../packages/braitenberg_agent/agent.py). This contains the rest of the Braitenberg agent, including all of the functionality (reading observations and create commands). The agent will load the `get_motor_left_matrix`, `get_motor_right_matrix` functions from the file [connections.py](../packages/solution/connections.py).\n"
   ]
  },
  {
   "cell_type": "markdown",
   "metadata": {},
   "source": [
    "Let us load these functions into this notebook:"
   ]
  },
  {
   "cell_type": "code",
   "execution_count": null,
   "metadata": {},
   "outputs": [],
   "source": [
    "from solution.connections import get_motor_left_matrix, get_motor_right_matrix"
   ]
  },
  {
   "cell_type": "markdown",
   "metadata": {},
   "source": [
    "Now we can visualize them. As said, the default value are random, so the outcome is not very interesting. If we change the functions instead, results might become more interesting."
   ]
  },
  {
   "cell_type": "code",
   "execution_count": null,
   "metadata": {
    "tags": [
     "export"
    ]
   },
   "outputs": [],
   "source": [
    "# Setting thing up for visualization\n",
    "\n",
    "fn = '../../assets/samples/big-duck/big-duck-10.jpg'\n",
    "image1 = dcu.rgb_from_jpg_fn(fn);\n",
    "image1_gray = np.mean(image1, axis=2)\n",
    "shape = image1_gray.shape\n",
    "print(shape)"
   ]
  },
  {
   "cell_type": "markdown",
   "metadata": {
    "collapsed": false
   },
   "source": [
    "The `shape` that was just printed above will be useful when editing [connections.py](../../packages/solution/connections.py)."
   ]
  },
  {
   "cell_type": "code",
   "execution_count": null,
   "metadata": {
    "pycharm": {
     "name": "#%%\n"
    },
    "tags": [
     "export"
    ]
   },
   "outputs": [],
   "source": [
    "# Calculating the matrices\n",
    "\n",
    "L = get_motor_left_matrix(shape)\n",
    "R = get_motor_right_matrix(shape)"
   ]
  },
  {
   "cell_type": "code",
   "execution_count": null,
   "metadata": {
    "pycharm": {
     "name": "#%%md\n"
    }
   },
   "outputs": [],
   "source": [
    "# Visualizing the matrices\n",
    "\n",
    "f = plt.figure()\n",
    "f.add_subplot(1, 2, 1)\n",
    "plt.imshow(dcu.posneg(L))\n",
    "plt.title('left matrix');\n",
    "f.add_subplot(1, 2, 2)\n",
    "plt.imshow(dcu.posneg(R))\n",
    "plt.title('right matrix');"
   ]
  },
  {
   "cell_type": "markdown",
   "metadata": {},
   "source": [
    "Let us try the above against some test images.\n",
    "\n",
    "Note that it is not possible to really test such an algorithm on passive data. We need to run it!\n",
    "\n",
    "Still, it is useful to see how these matrices are used. Notice that we simply multiply them with the preprocessed image (the image that now only has non-zero pixel values where there are duckies). \n",
    "\n",
    "Then, we look at the sign of the result for each matrix. This is what decides which control values get sent to the motors.\n",
    "\n",
    "Think of how to value your matrices such that the sign of their multiplication's results is a good control rule for your motors."
   ]
  },
  {
   "cell_type": "code",
   "execution_count": null,
   "metadata": {},
   "outputs": [],
   "source": [
    "from matplotlib import pylab\n",
    "import glob, os\n",
    "\n",
    "from solution.preprocessing import preprocess\n",
    "\n",
    "dirname = '../../assets/samples/many-duckies'\n",
    "images = glob.glob(f'{dirname}/*.jpg')\n",
    "\n",
    "for a in images:\n",
    "    im = dcu.rgb_from_jpg_fn(a)\n",
    "    P = preprocess(im)\n",
    "    Lim = P * L\n",
    "    Rim = P * R\n",
    "    Lsign = np.sum(Lim)\n",
    "    Rsign = np.sum(Rim)\n",
    "    f = pylab.figure(figsize=(10,2))\n",
    "    f.add_subplot(1, 4, 1)\n",
    "    plt.imshow(im)\n",
    "    pylab.title(os.path.basename(a))\n",
    "    f.add_subplot(1, 4, 2)\n",
    "    plt.imshow(P, cmap='gray')\n",
    "    pylab.title(\"Preprocessed\")\n",
    "    f.add_subplot(1, 4, 3)\n",
    "    plt.imshow(dcu.posneg(Lim))\n",
    "    pylab.title('left wheel ' + ('↑' if Lsign > 0 else '↓'))\n",
    "    f.add_subplot(1, 4, 4)\n",
    "    plt.imshow(dcu.posneg(Rim), cmap='bwr')\n",
    "    pylab.title('right wheel ' + ('↑' if Rsign > 0 else '↓'))\n"
   ]
  },
  {
   "cell_type": "markdown",
   "metadata": {},
   "source": [
    "Your agent is now ready to be tested according to the instructions in the [README](../../README.md)."
   ]
  },
  {
   "cell_type": "markdown",
   "metadata": {},
   "source": [
    "Consider the agent that we gave you as a starting point - feel free to explore with different code also in [agent.py](../../packages/braitenberg_agent/agent.py)."
   ]
  },
  {
   "cell_type": "markdown",
   "metadata": {},
   "source": [
    "Remember that to hand in the exercise, you will have to complete the final step in the instructions successfully (`dts code submit`)."
   ]
  }
 ],
 "metadata": {
  "celltoolbar": "Tags",
  "kernelspec": {
   "display_name": "Python 3.8.10 64-bit",
   "language": "python",
   "name": "python3"
  },
  "language_info": {
   "codemirror_mode": {
    "name": "ipython",
    "version": 3
   },
   "file_extension": ".py",
   "mimetype": "text/x-python",
   "name": "python",
   "nbconvert_exporter": "python",
   "pygments_lexer": "ipython3",
   "version": "3.8.10"
  },
  "vscode": {
   "interpreter": {
    "hash": "916dbcbb3f70747c44a77c7bcd40155683ae19c65e1c03b4aa3499c5328201f1"
   }
  }
 },
 "nbformat": 4,
 "nbformat_minor": 4
}
